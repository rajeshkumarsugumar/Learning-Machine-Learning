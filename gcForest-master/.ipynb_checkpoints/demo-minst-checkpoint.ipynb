{
 "cells": [
  {
   "cell_type": "code",
   "execution_count": 18,
   "metadata": {},
   "outputs": [],
   "source": [
    "\"\"\"\n",
    "MNIST datasets demo for gcforest\n",
    "Usage:\n",
    "    define the model within scripts:\n",
    "        python examples/demo_mnist.py\n",
    "    get config from json file:\n",
    "        python examples/demo_mnist.py --model examples/demo_mnist-gc.json\n",
    "        python examples/demo_mnist.py --model examples/demo_mnist-ca.json\n",
    "\"\"\"\n",
    "import argparse\n",
    "import numpy as np\n",
    "import sys\n",
    "from keras.datasets import mnist\n",
    "import pickle\n",
    "from sklearn.ensemble import RandomForestClassifier\n",
    "from sklearn.metrics import accuracy_score\n",
    "sys.path.insert(0, \"lib\")\n",
    "\n",
    "from gcforest.gcforest import GCForest\n",
    "from gcforest.utils.config_utils import load_json"
   ]
  },
  {
   "cell_type": "code",
   "execution_count": 29,
   "metadata": {},
   "outputs": [],
   "source": [
    "def parse_args():\n",
    "    parser = argparse.ArgumentParser()\n",
    "    parser.add_argument(\"--model\", dest=\"model\", type=str, default=None, help=\"gcfoest Net Model File\")\n",
    "    args = parser.parse_args()\n",
    "    return args\n",
    "\n",
    "\n",
    "def get_toy_config():\n",
    "    config = {}\n",
    "    ca_config = {}\n",
    "    ca_config[\"random_state\"] = 0\n",
    "    ca_config[\"max_layers\"] = 100\n",
    "    ca_config[\"early_stopping_rounds\"] = 3\n",
    "    ca_config[\"n_classes\"] = 10\n",
    "    ca_config[\"estimators\"] = []\n",
    "    ca_config[\"estimators\"].append(\n",
    "            {\"n_folds\": 5, \"type\": \"XGBClassifier\", \"n_estimators\": 10, \"max_depth\": 5,\n",
    "             \"objective\": \"multi:softprob\", \"silent\": True, \"nthread\": -1, \"learning_rate\": 0.1} )\n",
    "    ca_config[\"estimators\"].append({\"n_folds\": 5, \"type\": \"RandomForestClassifier\", \"n_estimators\": 10, \"max_depth\": None, \"n_jobs\": -1})\n",
    "    ca_config[\"estimators\"].append({\"n_folds\": 5, \"type\": \"ExtraTreesClassifier\", \"n_estimators\": 10, \"max_depth\": None, \"n_jobs\": -1})\n",
    "    ca_config[\"estimators\"].append({\"n_folds\": 5, \"type\": \"LogisticRegression\"})\n",
    "    config[\"cascade\"] = ca_config\n",
    "    return config"
   ]
  },
  {
   "cell_type": "code",
   "execution_count": 30,
   "metadata": {},
   "outputs": [],
   "source": [
    "config = get_toy_config()"
   ]
  },
  {
   "cell_type": "code",
   "execution_count": null,
   "metadata": {},
   "outputs": [
    {
     "name": "stderr",
     "output_type": "stream",
     "text": [
      "[ 2019-09-08 00:37:31,446][cascade_classifier.fit_transform] X_groups_train.shape=[(60000, 1, 28, 28)],y_train.shape=(60000,),X_groups_test.shape=no_test,y_test.shape=no_test\n",
      "[ 2019-09-08 00:37:31,488][cascade_classifier.fit_transform] group_dims=[784]\n",
      "[ 2019-09-08 00:37:31,489][cascade_classifier.fit_transform] group_starts=[0]\n",
      "[ 2019-09-08 00:37:31,490][cascade_classifier.fit_transform] group_ends=[784]\n",
      "[ 2019-09-08 00:37:31,491][cascade_classifier.fit_transform] X_train.shape=(60000, 784),X_test.shape=(0, 784)\n",
      "[ 2019-09-08 00:37:31,608][cascade_classifier.fit_transform] [layer=0] look_indexs=[0], X_cur_train.shape=(60000, 784), X_cur_test.shape=(0, 784)\n"
     ]
    }
   ],
   "source": [
    "# if __name__ == \"__main__\":\n",
    "#     args = parse_args()\n",
    "#     if args.model is None:\n",
    "#         config = get_toy_config()\n",
    "#     else:\n",
    "#         config = load_json(args.model)\n",
    "    \n",
    "\n",
    "gc = GCForest(config)\n",
    "# If the model you use cost too much memory for you.\n",
    "# You can use these methods to force gcforest not keeping model in memory\n",
    "# gc.set_keep_model_in_mem(False), default is TRUE.\n",
    "\n",
    "(X_train, y_train), (X_test, y_test) = mnist.load_data()\n",
    "# X_train, y_train = X_train[:2000], y_train[:2000]\n",
    "X_train = X_train[:, np.newaxis, :, :]\n",
    "X_test = X_test[:, np.newaxis, :, :]\n",
    "\n",
    "\n",
    "X_train_enc = gc.fit_transform(X_train, y_train)\n",
    "# X_enc is the concatenated predict_proba result of each estimators of the last layer of the GCForest model\n",
    "# X_enc.shape =\n",
    "#   (n_datas, n_estimators * n_classes): If cascade is provided\n",
    "#   (n_datas, n_estimators * n_classes, dimX, dimY): If only finegrained part is provided\n",
    "# You can also pass X_test, y_test to fit_transform method, then the accracy on test data will be logged when training.\n",
    "# X_train_enc, X_test_enc = gc.fit_transform(X_train, y_train, X_test=X_test, y_test=y_test)\n",
    "# WARNING: if you set gc.set_keep_model_in_mem(True), you would have to use\n",
    "# gc.fit_transform(X_train, y_train, X_test=X_test, y_test=y_test) to evaluate your model.\n",
    "\n",
    "y_pred = gc.predict(X_test)\n",
    "acc = accuracy_score(y_test, y_pred)\n",
    "print(\"Test Accuracy of GcForest = {:.2f} %\".format(acc * 100))\n",
    "\n",
    "# You can try passing X_enc to another classfier on top of gcForest.e.g. xgboost/RF.\n",
    "X_test_enc = gc.transform(X_test)\n",
    "X_train_enc = X_train_enc.reshape((X_train_enc.shape[0], -1))\n",
    "X_test_enc = X_test_enc.reshape((X_test_enc.shape[0], -1))\n",
    "X_train_origin = X_train.reshape((X_train.shape[0], -1))\n",
    "X_test_origin = X_test.reshape((X_test.shape[0], -1))\n",
    "X_train_enc = np.hstack((X_train_origin, X_train_enc))\n",
    "X_test_enc = np.hstack((X_test_origin, X_test_enc))\n",
    "print(\"X_train_enc.shape={}, X_test_enc.shape={}\".format(X_train_enc.shape, X_test_enc.shape))\n",
    "clf = RandomForestClassifier(n_estimators=1000, max_depth=None, n_jobs=-1)\n",
    "clf.fit(X_train_enc, y_train)\n",
    "y_pred = clf.predict(X_test_enc)\n",
    "acc = accuracy_score(y_test, y_pred)\n",
    "print(\"Test Accuracy of Other classifier using gcforest's X_encode = {:.2f} %\".format(acc * 100))\n",
    "\n",
    "# dump\n",
    "with open(\"test.pkl\", \"wb\") as f:\n",
    "    pickle.dump(gc, f, pickle.HIGHEST_PROTOCOL)\n",
    "# load\n",
    "with open(\"test.pkl\", \"rb\") as f:\n",
    "    gc = pickle.load(f)\n",
    "y_pred = gc.predict(X_test)\n",
    "acc = accuracy_score(y_test, y_pred)\n",
    "print(\"Test Accuracy of GcForest (save and load) = {:.2f} %\".format(acc * 100))"
   ]
  },
  {
   "cell_type": "code",
   "execution_count": null,
   "metadata": {},
   "outputs": [],
   "source": []
  }
 ],
 "metadata": {
  "kernelspec": {
   "display_name": "Python 3",
   "language": "python",
   "name": "python3"
  },
  "language_info": {
   "codemirror_mode": {
    "name": "ipython",
    "version": 3
   },
   "file_extension": ".py",
   "mimetype": "text/x-python",
   "name": "python",
   "nbconvert_exporter": "python",
   "pygments_lexer": "ipython3",
   "version": "3.7.4"
  }
 },
 "nbformat": 4,
 "nbformat_minor": 2
}
